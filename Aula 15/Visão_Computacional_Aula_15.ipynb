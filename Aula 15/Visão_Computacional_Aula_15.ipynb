{
  "nbformat": 4,
  "nbformat_minor": 0,
  "metadata": {
    "colab": {
      "name": "Visão_Computacional_Aula_15.ipynb",
      "provenance": [],
      "collapsed_sections": [],
      "include_colab_link": true
    },
    "kernelspec": {
      "name": "python3",
      "display_name": "Python 3"
    }
  },
  "cells": [
    {
      "cell_type": "markdown",
      "metadata": {
        "id": "view-in-github",
        "colab_type": "text"
      },
      "source": [
        "<a href=\"https://colab.research.google.com/github/lucianosilva-github/visaocomputacional/blob/master/Aula%2015/Visa%CC%83o_Computacional_Aula_15.ipynb\" target=\"_parent\"><img src=\"https://colab.research.google.com/assets/colab-badge.svg\" alt=\"Open In Colab\"/></a>"
      ]
    },
    {
      "cell_type": "markdown",
      "metadata": {
        "id": "nxY7Hh85nCjZ"
      },
      "source": [
        "## **VISÃO COMPUTACIONAL - AULA 15**\n",
        "\n",
        "**Objetivos da aula:**\n",
        "\n",
        "*   entender o processo de formação de imagens em câmeras\n",
        "*   praticar com o gerador de imagens pyRT\n",
        "\n"
      ]
    },
    {
      "cell_type": "markdown",
      "metadata": {
        "id": "ODVBfuB66V4y"
      },
      "source": [
        "**PRINCÍPIOS DE GERAÇÃO DE IMAGENS**\n",
        "\n",
        "Assim como o Processamento de Imagens e Visão Computacional fazem parte da área de Computação Visual, a Computação Gráfica (Graphics) também pertence a esta área.\n",
        "\n",
        "<img src=\"https://camo.githubusercontent.com/6257d85ea432469cd378e8c0a2a7ba1901577465/68747470733a2f2f73746f726167652e676f6f676c65617069732e636f6d2f74656e736f72666c6f772d67726170686963732f6769742f726561646d652f67726170686963732e6a7067\"> </img>\n",
        "\n",
        "Em Computação Gráfica, para se gerar uma imagem a partir de um processo chamado rendering (renderização), necessitamos de alguns elementos importantes: objetos 3D e cenários (geometria), transformações, câmeras, luz e textura.\n",
        "\n",
        "Um dos elementos centrais neste processo de geração de imagens são as câmeras. Imagens percebidas por uma câmera são projeções de objetos 3D no plano da imagem.\n",
        "\n",
        "<img src=\"https://storage.googleapis.com/tensorflow-graphics/notebooks/intrinsics/camera_model.jpg\"> </img>\n",
        "\n",
        "A especificação de uma câmera consiste de parâmetros geométricos (posição, ponto focal) e físicos (abertura, distância focal). \n",
        "\n",
        "\n",
        "\n"
      ]
    },
    {
      "cell_type": "markdown",
      "metadata": {
        "id": "_4Z3OX_BKVHy"
      },
      "source": [
        "**ALGORITMO DE RAY TRACING PARA PRODUÇÃO DE IMAGENS**\n",
        "\n",
        "O Algoritmo de Ray Tracing permite gerar imagens sintéticas a partir de especificações geométricas e fisicas de objetos e câmeras. Este algoritmo permite gerar imagens fotorealísticas e, atualmente, possui implementações em hardware como na placa de vídeo NVidia RTX 2080.\n",
        "\n",
        "<img src='https://therese3dblog.files.wordpress.com/2014/04/raytracing.gif'> </img>\n",
        "\n",
        "Para cada pixel da imagem da ser produzida, lançamos um raio da câmera para o pixel, traçamos o acompanhamento deste raio e calculamos a contribuição de cor de cada uma das interseções do raio com os objetos em cena. \n",
        "\n",
        "Para entendermos melhor este algoritmo, vamos utilizar o módulo **pvtrace**, disponível gratuitamente para ambientes Python.\n",
        "\n",
        "\n"
      ]
    },
    {
      "cell_type": "code",
      "metadata": {
        "id": "zPpoWftTY_lC",
        "colab": {
          "base_uri": "https://localhost:8080/"
        },
        "outputId": "1f208c2b-d800-4b4c-9d67-92e9d00ad557"
      },
      "source": [
        "!pip install pyRT"
      ],
      "execution_count": 1,
      "outputs": [
        {
          "output_type": "stream",
          "name": "stdout",
          "text": [
            "Collecting pyRT\n",
            "  Downloading pyrt-0.5.7-py3-none-any.whl (40 kB)\n",
            "\u001b[?25l\r\u001b[K     |████████▏                       | 10 kB 21.4 MB/s eta 0:00:01\r\u001b[K     |████████████████▎               | 20 kB 26.4 MB/s eta 0:00:01\r\u001b[K     |████████████████████████▍       | 30 kB 23.3 MB/s eta 0:00:01\r\u001b[K     |████████████████████████████████| 40 kB 4.3 MB/s \n",
            "\u001b[?25hInstalling collected packages: pyRT\n",
            "Successfully installed pyRT-0.5.7\n"
          ]
        }
      ]
    },
    {
      "cell_type": "code",
      "metadata": {
        "id": "bqQDEj8tbV3C",
        "colab": {
          "base_uri": "https://localhost:8080/"
        },
        "outputId": "8549f240-6e93-4ddb-d1bc-a53721bce81b"
      },
      "source": [
        "from pyrt.math import *\n",
        "from pyrt.scene import *\n",
        "from pyrt.geometry import Sphere\n",
        "from pyrt.material import PhongMaterial\n",
        "from pyrt.camera import PerspectiveCamera\n",
        "from pyrt.renderer import SimpleRT\n",
        "\n",
        "from PIL import Image\n",
        "\n",
        "\n",
        "# Specify width/height \n",
        "width = 320\n",
        "height = 240\n",
        "\n",
        "# now create a camera and a view \n",
        "camera = PerspectiveCamera(width, height, 60)\n",
        "camera.setView(Vec3(0,-10,0), Vec3(0,0,0), Vec3(0,0,1))\n",
        "\n",
        "# Create a scene\n",
        "scene = Scene()\n",
        "\n",
        "# Add a sphere to the scene:\n",
        "scene.add(Sphere(center=Vec3(0.,0.,0.), radius=3., material=PhongMaterial(color=Vec3(1.,0.,0.))))\n",
        "\n",
        "# Now tell the scene which camera we use\n",
        "scene.setCamera(camera)\n",
        "\n",
        "# Create a raytracer using \"SimpleRT\"\n",
        "engine = SimpleRT()\n",
        "\n",
        "# Render the scene:\n",
        "image = engine.render(scene)\n",
        "\n",
        "# Save the resulting image using pillow\n",
        "image.save(\"render1.png\")\n",
        "\n"
      ],
      "execution_count": 2,
      "outputs": [
        {
          "output_type": "stream",
          "name": "stdout",
          "text": [
            "# Creating Renderer: Simple Raytracer\n",
            "# RENDER STATISTICS###############################\n",
            "TIME FOR RENDERING: 2.1275901794433594s\n",
            "NUMBER OF PRIMARY RAYS: 76800\n",
            "NUMBER OF SECONDARY RAYS: 0\n",
            "NUMBER OF SHADOW RAYS: 0\n",
            "RAYS/s: 36097.17733332138\n",
            "##################################################\n"
          ]
        }
      ]
    },
    {
      "cell_type": "code",
      "metadata": {
        "id": "OD0-wxsoZM1v",
        "colab": {
          "base_uri": "https://localhost:8080/"
        },
        "outputId": "a1f8d43c-a721-4722-8fcb-166c15afcd4c"
      },
      "source": [
        "from pyrt.math import Vec3\n",
        "from pyrt.scene import Scene\n",
        "from pyrt.light import PointLight\n",
        "from pyrt.geometry import Triangle, Sphere, Vertex\n",
        "from pyrt.material import PhongMaterial\n",
        "from pyrt.camera import PerspectiveCamera\n",
        "from pyrt.renderer import SimpleRT\n",
        "from PIL import Image\n",
        "\n",
        "# Specify width/height \n",
        "width = 320\n",
        "height = 240\n",
        "\n",
        "# now create a camera and a view :\n",
        "camera = PerspectiveCamera(width, height, 45)\n",
        "camera.setView(Vec3(0.,-10.,10.), Vec3(0.,0.,0.), Vec3(0.,0.,1.))\n",
        "\n",
        "# Create a scene\n",
        "scene = Scene()\n",
        "\n",
        "# Add a light to the scene\n",
        "scene.addLight(PointLight(Vec3(0,0,15)))\n",
        "\n",
        "# create some materials:\n",
        "floormaterial = PhongMaterial(color=Vec3(0.5,0.5,0.5))\n",
        "sphere0material = PhongMaterial(color=Vec3(1.,0.,0.))\n",
        "sphere1material = PhongMaterial(color=Vec3(0.,1.,0.))\n",
        "sphere2material = PhongMaterial(color=Vec3(0.,0.,1.))\n",
        "sphere3material = PhongMaterial(color=Vec3(1.,1.,0.))\n",
        "\n",
        "# Add \"floor\"\n",
        "\n",
        "A = Vertex(position=(-5.0, -5.0, 0.0))\n",
        "B = Vertex(position=( 5.0, -5.0, 0.0))\n",
        "C = Vertex(position=( 5.0,  5.0, 0.0))\n",
        "D = Vertex(position=(-5.0,  5.0, 0.0))\n",
        "\n",
        "scene.add(Triangle(A,B,C, material=floormaterial))\n",
        "scene.add(Triangle(A,C,D, material=floormaterial))\n",
        "\n",
        "# Add some spheres\n",
        "\n",
        "scene.add(Sphere(center=Vec3(-2.5,-2.5,1.75), radius=1.75, material=sphere0material))\n",
        "scene.add(Sphere(center=Vec3( 2.5,-2.5,1.75), radius=1.75, material=sphere1material))\n",
        "scene.add(Sphere(center=Vec3( 2.5, 2.5,1.75), radius=1.75, material=sphere2material))\n",
        "scene.add(Sphere(center=Vec3(-2.5, 2.5,1.75), radius=1.75, material=sphere3material))\n",
        "\n",
        "# Now tell the scene which camera we use\n",
        "scene.setCamera(camera)\n",
        "\n",
        "# Create a raytracer using \"SimpleRT\"\n",
        "engine = SimpleRT(shadow=True)\n",
        "\n",
        "# Render the scene:\n",
        "image = engine.render(scene)\n",
        "\n",
        "# Save the resulting image using pillow\n",
        "image.save(\"render2.png\")\n"
      ],
      "execution_count": 3,
      "outputs": [
        {
          "output_type": "stream",
          "name": "stdout",
          "text": [
            "# Creating Renderer: Simple Raytracer\n",
            "# Shadow Enabled\n",
            "# RENDER STATISTICS###############################\n",
            "TIME FOR RENDERING: 11.913964033126831s\n",
            "NUMBER OF PRIMARY RAYS: 76800\n",
            "NUMBER OF SECONDARY RAYS: 0\n",
            "NUMBER OF SHADOW RAYS: 55280\n",
            "RAYS/s: 11086.150640773378\n",
            "##################################################\n"
          ]
        }
      ]
    },
    {
      "cell_type": "markdown",
      "metadata": {
        "id": "qOkY2q4WdIkC"
      },
      "source": [
        "### **EXERCÍCIO**\n",
        "\n",
        "Especifique uma condfiguração de render para produzir a seguinte imagem:\n",
        "\n",
        "<img src='https://github.com/martinchristen/pyRT/blob/master/examples/13.png?raw=true'></b>"
      ]
    },
    {
      "cell_type": "code",
      "metadata": {
        "id": "wFUNdq5DdmcT"
      },
      "source": [
        "#implemente sua solução aqui..."
      ],
      "execution_count": null,
      "outputs": []
    },
    {
      "cell_type": "markdown",
      "metadata": {
        "id": "JF8nXS35dv6M"
      },
      "source": [
        "### **EXERCÍCIO**\n",
        "\n",
        "Especifique uma condfiguração de render para produzir a seguinte imagem:\n",
        "\n",
        "<img src='https://github.com/martinchristen/pyRT/blob/master/examples/15.png?raw=true'></b>"
      ]
    },
    {
      "cell_type": "code",
      "metadata": {
        "id": "-pT8EIRkd8Ah"
      },
      "source": [
        "#implemente sua solução aqui..."
      ],
      "execution_count": null,
      "outputs": []
    }
  ]
}