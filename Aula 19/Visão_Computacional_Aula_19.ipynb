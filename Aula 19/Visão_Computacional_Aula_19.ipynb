{
  "nbformat": 4,
  "nbformat_minor": 0,
  "metadata": {
    "colab": {
      "name": "Visão_Computacional_Aula_19.ipynb",
      "provenance": [],
      "collapsed_sections": [],
      "include_colab_link": true
    },
    "kernelspec": {
      "name": "python3",
      "display_name": "Python 3"
    }
  },
  "cells": [
    {
      "cell_type": "markdown",
      "metadata": {
        "id": "view-in-github",
        "colab_type": "text"
      },
      "source": [
        "<a href=\"https://colab.research.google.com/github/lucianosilva-github/visaocomputacional/blob/master/Aula%2019/Visa%CC%83o_Computacional_Aula_19.ipynb\" target=\"_parent\"><img src=\"https://colab.research.google.com/assets/colab-badge.svg\" alt=\"Open In Colab\"/></a>"
      ]
    },
    {
      "cell_type": "markdown",
      "metadata": {
        "id": "nxY7Hh85nCjZ"
      },
      "source": [
        "## **VISÃO COMPUTACIONAL - AULA 19**\n",
        "\n",
        "**Objetivos da aula:**\n",
        "\n",
        "*   revisar os conceitos de Visão Estéreo, Geometria Epipolar, Matriz Fundamental e Matriz Essencial\n",
        "*   introduzir os conceitos de geometria de múltiplas visões, geometria trifocal e tensor trifocal\n",
        "*   praticar com o módulo pymvg\n"
      ]
    },
    {
      "cell_type": "markdown",
      "metadata": {
        "id": "c8BtQMrIKrnQ"
      },
      "source": [
        "### <b> REVISÃO DE GEOMETRIA EPIPOLAR </b>\n",
        "\n",
        "Quando trabalhamos com o modelo de câmera pinhole, perdemos uma noção importante: profundidade. Uma das maneiras para se perceber profundidade é com o uso de câmeras, conhecida como <b> Visão Estéreo</b>. \n",
        "\n",
        "<img src=\"https://opencv24-python-tutorials.readthedocs.io/en/latest/_images/epipolar.jpg\"> </img>\n",
        "\n",
        "Usando somente a câmera de centro <i>O</i>, temos várias possibilidades de pontos X que podem ser projetados no ponto x da imagem. Porém, se consideramos uma outra câmera <i>O'</i>, os pontos x' correspondentes aos pontos x levam a um único ponto X possível no espaço, que pode ser calculado através da intersecção das semiretas <i>Ox</i> e <i>O'x'</i>. \n",
        "\n",
        "As linhas <i>l</i> e <i>l'</i> são chamadas <b>linhas epipolares</b> e contém pontos correspondentes em projeção nas duas imagens, conhecidos como <b>epipolos</b>. O plano <i>OXO'</i> é chamado de <b>plano epipolar</b>.\n",
        "\n",
        "Conhecidos os centros <i>O</i>, <i>O'</i> e alguns pares de epipolos <i>(e,e')</i> (normalmente, dependemos da técnica utilizada, usamos oito epipolos ou mais), é possível reconstruir as matrizes de projeção das câmeras <i>O</i> e <i>O'</i>. Esta determinação de matrizes é realizada com o auxílio da <b>Geometria Epipolar</b>.\n",
        "\n",
        "Para simplificar o nosso modelo de duas câmeras, vamos considerar duas câmeras com os mesmos parâmetros intrínsecos (distância focal, tamaho do plano de projeção, dentre outros) e posicionadas diferentemente utilizando uma translação e uma rotação.\n",
        "\n",
        "<img src=\"https://opencv24-python-tutorials.readthedocs.io/en/latest/_images/essential_matrix.jpg\"> </img>\n",
        "\n",
        "Vamos designar as matrizes das câmeras de <i>K</i> e <i>K'</i>, associadas aos centros <i>O</i> e <i>O'</i>, respectivamente. Para determinar estas duas matrizes, vamos duas outras matrizes: <b> Matriz Essencial (E)</b> e a <b> Matriz Fundamental(F) </b>.\n",
        "\n",
        "A matriz essencial E contém informações sobre a translação T e a rotação R da câmera <i>O'</i>, em relação à câmera <i>O</i>. A matriz fundamental F permite projetar uma linha epipolar de imagem na linha epipolar correspodnente na outra imagem.\n",
        "\n",
        "### <b> MATRIZ FUNDAMENTAL F </b>\n",
        "\n",
        "A matriz fundamental F pode ser obtida resolvendo o sistema de equações lineares abaixo:\n",
        "\n",
        "<center>\n",
        "<img src=\"https://wikimedia.org/api/rest_v1/media/math/render/svg/6ab25460ff5b12e37a92d4ad41487802476c69be\"> </img>\n",
        "</center>\n",
        "\n",
        "A matriz F é uma matrix 3x3. Assim, 8 equações são suficientes para determiná-la completamente. Estas equações são obtidas através de 8 pares de epipolos <i>(e,e')</i> correspondentes nas duas imagens.\n",
        "\n",
        "\n",
        "\n"
      ]
    },
    {
      "cell_type": "markdown",
      "metadata": {
        "id": "BbrvAHZbKPVO"
      },
      "source": [
        "### <b> MATRIZ FUNDAMENTAL F </b>\n",
        "\n",
        "A matriz fundamental F pode ser obtida resolvendo o sistema de equações lineares abaixo:\n",
        "\n",
        "<center>\n",
        "<img src=\"https://wikimedia.org/api/rest_v1/media/math/render/svg/6ab25460ff5b12e37a92d4ad41487802476c69be\"> </img>\n",
        "</center>\n",
        "\n",
        "A matriz F é uma matrix 3x3. Assim, 8 equações são suficientes para determiná-la completamente. Estas equações são obtidas através de 8 pares de epipolos <i>(e,e')</i> correspondentes nas duas imagens.\n",
        "\n",
        "### <b> MATRIZ ESSENCIAL E </b>\n",
        "\n",
        "A matriz fundamental E satisfaz a equação abaixo, onde K e K' são as matrizes das duas câmeras e, F, a matriz fundamental.\n",
        "\n",
        "\n",
        "Se soubermos a matriz essencial E, podemos obter as matrizes associadas às câmeras. Uma maneira de fazer isto é supor que K seja a matriz identidade e, em função dela,determinar a matriz K'.\n",
        "\n",
        "\n",
        "\n"
      ]
    },
    {
      "cell_type": "markdown",
      "metadata": {
        "id": "rdDhaNEdd1IO"
      },
      "source": [
        "### <b> MATRIZ ESSENCIAL E </b>\n",
        "\n",
        "A matriz fundamental E satisfaz a equação abaixo, onde K e K' são as matrizes das duas câmeras e, F, a matriz fundamental.\n",
        "\n",
        "<center>\n",
        "<img src=\"https://wikimedia.org/api/rest_v1/media/math/render/svg/94797b318a9e805f6515cee74fa3de42ac35ee7a\"> </img>\n",
        "</center>\n",
        "\n",
        "Se soubermos a matriz essencial E, podemos obter as matrizes associadas às câmeras. Uma maneira de fazer isto é supor que K seja a matriz identidade e, em função dela,determinar a matriz K'."
      ]
    },
    {
      "cell_type": "markdown",
      "metadata": {
        "id": "3DFrczlto3FN"
      },
      "source": [
        "Obtendo a matriz E, podemos decompô-la em fatores usando a decomposição SVD (Decomposição em Valores Singulares). A decomposição SVD permite decompor uma matriz M em três componentes:\n",
        "\n",
        "<center>\n",
        "<img src=\"https://wikimedia.org/api/rest_v1/media/math/render/svg/f577effb716a33019b63f9072fd245bb2a751bdb\"> </img>\n",
        "</center>\n",
        "\n",
        "Por exemplo, a matriz M mostrada abaixo\n",
        "\n",
        "<center>\n",
        "<img src=\"https://wikimedia.org/api/rest_v1/media/math/render/svg/0d5d3df9cf619062481ab2a6b328467990152f1a\"> </img>\n",
        "</center>\n",
        "\n",
        "possui a seguinte decomposição em valores singulares\n",
        "\n",
        "<center>\n",
        "<img src=\"https://wikimedia.org/api/rest_v1/media/math/render/svg/73fdf5fe339a08566cccb833c860558092532f74\"> </img>\n",
        "</center>\n",
        "\n",
        "A matriz do centro é sempre uma matriz diagonal, formada por autovalores. As matrizes U e V* são matrizes unitárias, isto é, multiplicado elas por elas mesmas, produzimos a matriz identidade:\n",
        "\n",
        "<center>\n",
        "<img src=\"https://wikimedia.org/api/rest_v1/media/math/render/svg/a7f128976e087ec8136d54eeaab90a2eda2a09bc\"> </img>\n",
        "</center>\n",
        "<center>\n",
        "<img src=\"https://wikimedia.org/api/rest_v1/media/math/render/svg/43daa2de3e7835aba9c75c1eef02bbe5c2d6f687\"> </img>\n",
        "</center>\n"
      ]
    },
    {
      "cell_type": "markdown",
      "metadata": {
        "id": "B0onJDstsHQV"
      },
      "source": [
        "Para obter uma possível matriz de rotação de uma câmera e sua translação em relação a outra câmera, podemos usar as seguintes relações:\n",
        "\n",
        "<center>\n",
        "<img src=\"https://wikimedia.org/api/rest_v1/media/math/render/svg/982105be58f296a050d9bd1be02ec12d1c578c21\"> </img>\n",
        "</center>\n",
        "\n",
        "<center>\n",
        "<img src=\"https://wikimedia.org/api/rest_v1/media/math/render/svg/bc1799dbc7da928a0d4576f5b9ed5d21d955be72\"> </img>\n",
        "</center>\n",
        "\n",
        "<center>\n",
        "<img src=\"https://wikimedia.org/api/rest_v1/media/math/render/svg/563ddbeb35c985502bc0bb0b0cc13178a2b68c43\"> </img>\n",
        "</center>\n",
        "\n",
        "<center>\n",
        "<img src=\"https://wikimedia.org/api/rest_v1/media/math/render/svg/f48a92bc850bdfa4b0e313281f1ba9ae8a0af0ac\"> </img>\n",
        "</center>"
      ]
    },
    {
      "cell_type": "markdown",
      "metadata": {
        "id": "Dr8PtjsDtFOE"
      },
      "source": [
        "#### <b> GEOMETRIA COM TRÊS CÂMERAS (TRIFOCAL) E O TENSOR TRIFOCAL </b>\n",
        "\n",
        "Assim como num sistema com duas imagens, podemos extrair informações sobre o cenário em 3D através da correspondência entre pontos, retas, tangentes e segmentos de curvas com três ou mais imagens. Isto é chamado genericamente de **Geometria de Múltiplas Visões**.\n",
        "\n",
        "<center> <img src=\"https://miro.medium.com/max/810/1*wzzIPX7GiBOU-ON6kDp0Dg.jpeg\"> </img> </center>\n",
        "\n",
        "Nesta aula, trabalhemos com três visões, através de um sistema de três câmeras **(Geometria Trifocal)**. Nesta configuração três câmeras, temos a seguinte configuração:\n",
        "\n",
        "<center> <img src=\"https://img1.daumcdn.net/thumb/R1280x0/?scode=mtistory2&fname=https%3A%2F%2Ft1.daumcdn.net%2Fcfile%2Ftistory%2F27575648586264FE04\"> </img> </center>\n",
        "\n",
        "Neste tipo de geometria, temos três linhas epipolares: l, l' e l''. A partir delas, definimos o **tensor trifocal**: \n",
        "\n",
        "<center> <img src=\"https://img1.daumcdn.net/thumb/R1280x0/?scode=mtistory2&fname=https%3A%2F%2Ft1.daumcdn.net%2Fcfile%2Ftistory%2F24147A4B5862653424\"> </img></center>\n",
        "\n",
        "As matrizes de câmeras são calculadas a partir do tensor trifocal. Para calcular o tensor trifocal, precisamos de **seis pontos em cada imagem**   correspondentes nas três imagens. Observe que esta quantidade é menor que na **visão bifocal (visão estéreo)**, onde precisávamos de **8 pontos**. \n",
        "\n",
        "Detalhes da obtenção das câmeras podem ser obtidos no seguinte artigo: \n",
        "\n",
        "https://stuartheinrich.com/cv/els_robust_tensor.pdf \n",
        "\n",
        "\n",
        "\n",
        "\n",
        "\n"
      ]
    },
    {
      "cell_type": "markdown",
      "metadata": {
        "id": "gj_TP9tk0BkY"
      },
      "source": [
        "#### <b> MÓDULO PYMVG </b>\n",
        "\n",
        "O módulo pymvg (Python Multiple View Geometry) permite especificar configuração para geometria de múltiplas visões em Python. Este módulo pode ser encontrado no link abaixo: \n",
        "\n",
        "https://pymvg.readthedocs.io/en/latest/ \n",
        "\n",
        "Este módulo não é parte oficial da linguagem Python. Assim, precisamos instalá-lo via pip:"
      ]
    },
    {
      "cell_type": "code",
      "metadata": {
        "colab": {
          "base_uri": "https://localhost:8080/"
        },
        "id": "3XgHUTxh4SMm",
        "outputId": "55add45b-201a-4529-857e-8fd426371c15"
      },
      "source": [
        "!pip install pymvg"
      ],
      "execution_count": 1,
      "outputs": [
        {
          "output_type": "stream",
          "name": "stdout",
          "text": [
            "Collecting pymvg\n",
            "  Downloading pymvg-2.0.0.zip (44 kB)\n",
            "\u001b[?25l\r\u001b[K     |███████▍                        | 10 kB 16.9 MB/s eta 0:00:01\r\u001b[K     |██████████████▊                 | 20 kB 22.8 MB/s eta 0:00:01\r\u001b[K     |██████████████████████          | 30 kB 27.9 MB/s eta 0:00:01\r\u001b[K     |█████████████████████████████▍  | 40 kB 25.4 MB/s eta 0:00:01\r\u001b[K     |████████████████████████████████| 44 kB 2.1 MB/s \n",
            "\u001b[?25hBuilding wheels for collected packages: pymvg\n",
            "  Building wheel for pymvg (setup.py) ... \u001b[?25l\u001b[?25hdone\n",
            "  Created wheel for pymvg: filename=pymvg-2.0.0-py3-none-any.whl size=45459 sha256=bf96ce7b2285b8e269a1f89bb0d865dea9017e6bf405cbc37923c60d49d53a46\n",
            "  Stored in directory: /root/.cache/pip/wheels/53/63/56/8daadc8a194dc0ee832488f5f992ad15febc6642e8421d4a69\n",
            "Successfully built pymvg\n",
            "Installing collected packages: pymvg\n",
            "Successfully installed pymvg-2.0.0\n"
          ]
        }
      ]
    },
    {
      "cell_type": "markdown",
      "metadata": {
        "id": "qC1UnxoY5N6y"
      },
      "source": [
        "Já existem algumas configurações prontas para uso: "
      ]
    },
    {
      "cell_type": "code",
      "metadata": {
        "colab": {
          "base_uri": "https://localhost:8080/",
          "height": 248
        },
        "id": "0Mj07ppR5TMy",
        "outputId": "0708d286-20a8-4c00-9024-94250ea5daa4"
      },
      "source": [
        "from pymvg.plot_utils import plot_camera\n",
        "from pymvg.multi_camera_system import build_example_system\n",
        "import matplotlib.pyplot as plt\n",
        "from mpl_toolkits.mplot3d import Axes3D\n",
        "import numpy as np\n",
        "\n",
        "n=4\n",
        "focal_distance=5.0\n",
        "system = build_example_system(n=n,z=focal_distance)\n",
        "\n",
        "fig = plt.figure()\n",
        "ax = fig.add_subplot(111, projection='3d')\n",
        "\n",
        "for name in system.get_names():\n",
        "    plot_camera( ax, system.get_camera(name), scale = focal_distance/5.0 )\n",
        "\n",
        "if 1:\n",
        "    # put some points to force mpl's view dimensions\n",
        "    pts = np.array([[0,0,0],\n",
        "                    [2*focal_distance, 2*focal_distance, 2*focal_distance]])\n",
        "    ax.plot( pts[:,0], pts[:,1], pts[:,2], 'k.')\n",
        "\n",
        "ax.set_xlabel('x')\n",
        "ax.set_ylabel('y')\n",
        "ax.set_zlabel('z')\n",
        "plt.show()"
      ],
      "execution_count": 2,
      "outputs": [
        {
          "output_type": "display_data",
          "data": {
            "image/png": "[encoded data removed]",
            "text/plain": [
              "<Figure size 432x288 with 1 Axes>"
            ]
          },
          "metadata": {
            "needs_background": "light"
          }
        }
      ]
    },
    {
      "cell_type": "markdown",
      "metadata": {
        "id": "YFUB18Vn6DdZ"
      },
      "source": [
        "Ou podemos especificar individualmente cada câmera e construir a configuração manualmente:"
      ]
    },
    {
      "cell_type": "code",
      "metadata": {
        "id": "TdCU3K406QAP"
      },
      "source": [
        "import pymvg\n",
        "from pymvg.camera_model import CameraModel\n",
        "from pymvg.multi_camera_system import MultiCameraSystem\n",
        "\n",
        "lookat = np.array( (0.0, 0.0, 0.0))\n",
        "#Camera 1\n",
        "center1 = np.array( (0.0, 0.0, 10.0) )\n",
        "cam1 = CameraModel.load_camera_simple(name='cam1',fov_x_degrees=90,eye=center1,lookat=lookat)\n",
        "#Camera 2\n",
        "center2 = np.array( (10.0, 0.0, 0.0) )\n",
        "cam2 = CameraModel.load_camera_simple(name='cam2',fov_x_degrees=90,eye=center2,lookat=lookat)\n",
        "#Camera 3\n",
        "center3 = np.array( (10.0, 10.0, 0.0) )\n",
        "cam3 = CameraModel.load_camera_simple(name='cam3',fov_x_degrees=90,eye=center3,lookat=lookat)   \n",
        "cameras = [cam1,cam2,cam3]\n",
        "system = MultiCameraSystem(cameras)"
      ],
      "execution_count": 3,
      "outputs": []
    },
    {
      "cell_type": "code",
      "metadata": {
        "colab": {
          "base_uri": "https://localhost:8080/",
          "height": 248
        },
        "id": "uujqCzPa6iTm",
        "outputId": "8048d77c-84ff-4bb6-a5f7-9e24954984ba"
      },
      "source": [
        "fig = plt.figure()\n",
        "ax = fig.add_subplot(111, projection='3d')\n",
        "\n",
        "for name in system.get_names():\n",
        "    plot_camera( ax, system.get_camera(name), scale = focal_distance/5.0 )\n",
        "\n",
        "if 1:\n",
        "    # put some points to force mpl's view dimensions\n",
        "    pts = np.array([[0,0,0],\n",
        "                    [2*focal_distance, 2*focal_distance, 2*focal_distance]])\n",
        "    ax.plot( pts[:,0], pts[:,1], pts[:,2], 'k.')\n",
        "\n",
        "ax.set_xlabel('x')\n",
        "ax.set_ylabel('y')\n",
        "ax.set_zlabel('z')\n",
        "plt.show()"
      ],
      "execution_count": null,
      "outputs": [
        {
          "output_type": "display_data",
          "data": {
            "image/png": "[encoded data removed]",
            "text/plain": [
              "<Figure size 432x288 with 1 Axes>"
            ]
          },
          "metadata": {
            "needs_background": "light"
          }
        }
      ]
    },
    {
      "cell_type": "markdown",
      "metadata": {
        "id": "kD8_Wu5k7EMO"
      },
      "source": [
        "#### <b> EXERCÍCIO </b>\n",
        "\n",
        "Especifique uma configuração de câmeras em pymvg que permita escanear objetos como mostrado ma imagem abaixo:\n",
        "\n",
        "<center> <img src=\"https://3be.com.br/wp-content/uploads/2019/10/EinScan-SE-feature-1.png\"> </img></center>\n",
        "\n"
      ]
    },
    {
      "cell_type": "code",
      "metadata": {
        "id": "NyqfxN4n9bNX"
      },
      "source": [
        "#digite seu código aqui"
      ],
      "execution_count": 4,
      "outputs": []
    },
    {
      "cell_type": "markdown",
      "metadata": {
        "id": "tnnnhW7hArJA"
      },
      "source": [
        "#### <b> EXERCÍCIO </b>\n",
        "\n",
        "Especifique uma configuração de 3 câmeras focando na origem e com os seguintes centros: (20,0,0), (20,20,20) e (0,0,20)."
      ]
    },
    {
      "cell_type": "code",
      "metadata": {
        "id": "wpxUKH1fBHbE"
      },
      "source": [
        "#digite seu código aqui"
      ],
      "execution_count": null,
      "outputs": []
    },
    {
      "cell_type": "markdown",
      "metadata": {
        "id": "MGY8ocRNBNhS"
      },
      "source": [
        "#### <b> EXERCÍCIO </b>\n",
        "\n",
        "Considerando a configuração do exercício anterior, calcule as coordenadas dos pixels resultantes da projeção dos seis pontos abaixo nos planos de imagens de cada uma das câmeras: \n",
        "\n",
        "*   (0,0,0)\n",
        "*   (1,1,0)\n",
        "*   (1,1,1)\n",
        "*   (1,0,1)\n",
        "*   (0,1,1)\n",
        "*   (0,0,1)\n",
        "\n"
      ]
    },
    {
      "cell_type": "code",
      "metadata": {
        "id": "IkBjAVRcCVnN"
      },
      "source": [
        "#digite seu código aqui"
      ],
      "execution_count": null,
      "outputs": []
    },
    {
      "cell_type": "markdown",
      "metadata": {
        "id": "nNjj1LfgDHTn"
      },
      "source": [
        "#### <b> DESAFIO </b>\n",
        "\n",
        "A partir de cada conjunto de pixels projetados, reconstrua a configuração 3D dos pontos que originaram estes pixels projetados em cada câmera."
      ]
    },
    {
      "cell_type": "code",
      "metadata": {
        "id": "VxBry_IxDXXy"
      },
      "source": [
        "#digite seu código aqui"
      ],
      "execution_count": null,
      "outputs": []
    }
  ]
}
