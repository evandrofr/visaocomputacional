{
  "nbformat": 4,
  "nbformat_minor": 0,
  "metadata": {
    "colab": {
      "name": "Visão_Computacional_Aula_21.ipynb",
      "provenance": [],
      "collapsed_sections": [],
      "include_colab_link": true
    },
    "kernelspec": {
      "name": "python3",
      "display_name": "Python 3"
    }
  },
  "cells": [
    {
      "cell_type": "markdown",
      "metadata": {
        "id": "view-in-github",
        "colab_type": "text"
      },
      "source": [
        "<a href=\"https://colab.research.google.com/github/lucianosilva-github/visaocomputacional/blob/master/Aula%2021/Visa%CC%83o_Computacional_Aula_21.ipynb\" target=\"_parent\"><img src=\"https://colab.research.google.com/assets/colab-badge.svg\" alt=\"Open In Colab\"/></a>"
      ]
    },
    {
      "cell_type": "markdown",
      "metadata": {
        "id": "nxY7Hh85nCjZ"
      },
      "source": [
        "## **VISÃO COMPUTACIONAL - AULA 21**\n",
        "\n",
        "**Objetivos da aula:**\n",
        "\n",
        "*   apresentar o conceito de busca por padrões 3D em nuvens de pontos\n",
        "*   apresentar os algoritmos PTP e PTPL para registro ICP\n",
        "*   implementar e praticar com os algoritmos PTP e PTPL\n"
      ]
    },
    {
      "cell_type": "markdown",
      "metadata": {
        "id": "RVQVu5VNY52N"
      },
      "source": [
        "## **BUSCA POR PADRÕES 3D EM NUVENS DE PONTOS**\n",
        "\n",
        "A busca semântica em nuvens de pontos é um recurso moderno em Visão Computacional 3D e permite que padrões 3D (também definidos como nuvens de pontos) sejam procurados em outras nuvens de pontos. Abaixo temos um exemplo de padrão (amarelo) sendo procurado em uma nuvem de pontos (azul).\n",
        "\n",
        "<img src=\"https://lh3.googleusercontent.com/proxy/QtWMtYLRDuk9Zzg_J6KyIxcobTZvpsIcIfvUsFbW3WT0q_ikcTGdZbhuanaWbSJJcxKxC5-8swPN-tLpQerAFu0Awdw04c2EDpuDL5xkBg73F_gw-czDue-4SfLxaakXnQWiLj95waYqZA\"> \n",
        "</img>\n",
        "\n",
        "Este procedimento é chamado registro ICP (Iterative Closest Point). Existem diversos algoritmos de registro ICP. Um estudo comparativo bastante completo destes algoritmos pode ser encontrado no artigo abaixo:\n",
        "\n",
        "S. Rusinkiewicz and M. Levoy. **Efficient variants of the ICP algorithm**. In 3-D Digital Imaging and Modeling, 2001.\n",
        "\n",
        "O módulo Open3D possui um suporte bastante efetivo para ICP. Trabalharemos com dois algoritmos de ICP implementandos na Open3D: ICP Ponto-a-Ponto e o ICP Ponto-a-Plano. Para usar estes dois algoritmos, vamos utilizar dois arquivos de nuvens de pontos: um para o espaço de busca e outro para o padrão a ser encontrado."
      ]
    },
    {
      "cell_type": "code",
      "metadata": {
        "id": "HLF_L_3JcyrP"
      },
      "source": [
        "!pip install open3d"
      ],
      "execution_count": null,
      "outputs": []
    },
    {
      "cell_type": "markdown",
      "metadata": {
        "id": "SJVNt5eIgrWU"
      },
      "source": [
        "Abertura e exibição do espaço de busca."
      ]
    },
    {
      "cell_type": "code",
      "metadata": {
        "id": "zE60wyjndZJ4",
        "colab": {
          "base_uri": "https://localhost:8080/"
        },
        "outputId": "3c876cd1-ca2e-4b53-acb7-abf519c9a577"
      },
      "source": [
        "import open3d as o3d\n",
        "import numpy as np\n",
        "\n",
        "pcdb = o3d.io.read_point_cloud(\"espaco_busca.pcd\")\n",
        "print(pcdb)\n",
        "points=np.asarray(pcdb.points)\n",
        "print(points)\n"
      ],
      "execution_count": 2,
      "outputs": [
        {
          "output_type": "stream",
          "name": "stdout",
          "text": [
            "PointCloud with 198835 points.\n",
            "[[1.01953125 0.88671875 2.27726722]\n",
            " [1.04296875 0.88671875 2.27699804]\n",
            " [1.05859375 0.88671875 2.27722216]\n",
            " ...\n",
            " [1.26609075 2.37890625 2.26171875]\n",
            " [1.26171875 2.38015151 2.26171875]\n",
            " [1.26171875 2.37890625 2.26367211]]\n"
          ]
        }
      ]
    },
    {
      "cell_type": "code",
      "metadata": {
        "id": "GD75MeYLm9mX"
      },
      "source": [
        "import plotly.graph_objects as go\n",
        "\n",
        "fig = go.Figure(\n",
        "    data=[\n",
        "        go.Scatter3d(\n",
        "            x=points[:,0], y=points[:,1], z=points[:,2], \n",
        "            mode='markers',\n",
        "            marker=dict(size=1, color=np.asarray(pcdb.colors))\n",
        "        )\n",
        "    ],\n",
        "    layout=dict(\n",
        "        scene=dict(\n",
        "            xaxis=dict(visible=False),\n",
        "            yaxis=dict(visible=False),\n",
        "            zaxis=dict(visible=False)\n",
        "        )\n",
        "    )\n",
        ")\n",
        "fig.show()"
      ],
      "execution_count": null,
      "outputs": []
    },
    {
      "cell_type": "markdown",
      "metadata": {
        "id": "9qGsAVLV7OqE"
      },
      "source": [
        "Abertura e exibição do padrão a ser encontrado:"
      ]
    },
    {
      "cell_type": "code",
      "metadata": {
        "colab": {
          "base_uri": "https://localhost:8080/"
        },
        "id": "QxU8-iZC7aZi",
        "outputId": "b1927aff-26c6-4103-da02-c5b4bdfd4cc4"
      },
      "source": [
        "pcdp = o3d.io.read_point_cloud(\"padrao.pcd\")\n",
        "print(pcdb)\n",
        "points=np.asarray(pcdp.points)\n",
        "print(points)"
      ],
      "execution_count": 5,
      "outputs": [
        {
          "output_type": "stream",
          "name": "stdout",
          "text": [
            "PointCloud with 198835 points.\n",
            "[[1.32421875 1.16796875 1.39391088]\n",
            " [1.10546875 1.18451285 1.33203125]\n",
            " [1.10546875 1.18359375 1.33258736]\n",
            " ...\n",
            " [2.76086402 2.58203125 1.14453125]\n",
            " [2.75390625 2.58381176 1.14453125]\n",
            " [2.75390625 2.58203125 1.15058577]]\n"
          ]
        }
      ]
    },
    {
      "cell_type": "code",
      "metadata": {
        "id": "xzjBE1VZ7kvj"
      },
      "source": [
        "fig = go.Figure(\n",
        "    data=[\n",
        "        go.Scatter3d(\n",
        "            x=points[:,0], y=points[:,1], z=points[:,2], \n",
        "            mode='markers',\n",
        "            marker=dict(size=1, color=np.asarray(pcdp.colors))\n",
        "        )\n",
        "    ],\n",
        "    layout=dict(\n",
        "        scene=dict(\n",
        "            xaxis=dict(visible=False),\n",
        "            yaxis=dict(visible=False),\n",
        "            zaxis=dict(visible=False)\n",
        "        )\n",
        "    )\n",
        ")\n",
        "fig.show()"
      ],
      "execution_count": null,
      "outputs": []
    },
    {
      "cell_type": "code",
      "metadata": {
        "id": "sdfBhtqH8GIY"
      },
      "source": [
        "Propositalmente, o padrão ser busca neste exemplo é um recorte do espaço de busca. No caso geral, as duas nuvens de pontos podem ser quaisquer."
      ],
      "execution_count": null,
      "outputs": []
    },
    {
      "cell_type": "markdown",
      "metadata": {
        "id": "W8vUfd748X5X"
      },
      "source": [
        "## **ALGORITMO PTP (POINT-TO-POINT)**\n",
        "\n",
        "O Algoritmo de Registro PTP (Point-To-Point) depende de dois parâmetros além do espaço de busca: uma matriz de transformação inicial e um limiar (threshold): "
      ]
    },
    {
      "cell_type": "code",
      "metadata": {
        "colab": {
          "base_uri": "https://localhost:8080/"
        },
        "id": "X7vURKcr87E1",
        "outputId": "2cd66e3a-8c8f-4f50-9c6b-2d5fefb6becc"
      },
      "source": [
        "trans_init = np.asarray([[0.862, 0.011, -0.507, 0.5],\n",
        "                         [-0.139, 0.967, -0.215, 0.7],\n",
        "                         [0.487, 0.255, 0.835, -1.4], \n",
        "                         [0.0, 0.0, 0.0, 1.0]])\n",
        "threshold=0.02\n",
        "result = o3d.pipelines.registration.registration_icp(\n",
        "    pcdb, pcdp, threshold, trans_init,\n",
        "    o3d.pipelines.registration.TransformationEstimationPointToPoint(),\n",
        "    o3d.pipelines.registration.ICPConvergenceCriteria(max_iteration=2000))\n",
        "print(result)\n",
        "print(\"Transformation Matrix:\")\n",
        "print(result.transformation)"
      ],
      "execution_count": 12,
      "outputs": [
        {
          "output_type": "stream",
          "name": "stdout",
          "text": [
            "RegistrationResult with fitness=6.211230e-01, inlier_rmse=6.583448e-03, and correspondence_set size of 123501\n",
            "Access transformation to get result.\n",
            "Transformation Matrix:\n",
            "[[ 0.84024592  0.00687676 -0.54241281  0.6463702 ]\n",
            " [-0.14819104  0.96517833 -0.21706206  0.81180074]\n",
            " [ 0.52111439  0.26195134  0.81189372 -1.48346821]\n",
            " [ 0.          0.          0.          1.        ]]\n"
          ]
        }
      ]
    },
    {
      "cell_type": "markdown",
      "metadata": {
        "id": "aMLfDSDDALjx"
      },
      "source": [
        "## **EXERCÍCIO**\n",
        "\n",
        "O Algoritmo PTP implementado na Open3D é devido a Bels & McKay (1992). Este algoritmo é apresentado no artigo abaixo:\n",
        "\n",
        "http://graphics.stanford.edu/courses/cs164-09-spring/Handouts/paper_icp.pdf\n",
        "\n",
        "Leia o artigo acima e explique como este algoritmo funciona."
      ]
    },
    {
      "cell_type": "markdown",
      "metadata": {
        "id": "W4L8GHL6AtkM"
      },
      "source": [
        "digite sua resposta aqui"
      ]
    },
    {
      "cell_type": "markdown",
      "metadata": {
        "id": "JpLdjd_tA1YW"
      },
      "source": [
        "## **EXERCÍCIO**\n",
        "\n",
        "Qual é a influência do parâmetro threshold no algoritmo PTP ? Faça experimentos na célula abaixo para embasar sua resposta."
      ]
    },
    {
      "cell_type": "code",
      "metadata": {
        "id": "jl_HDHiHBCJb"
      },
      "source": [
        "#digite sua resposta aqui"
      ],
      "execution_count": null,
      "outputs": []
    },
    {
      "cell_type": "markdown",
      "metadata": {
        "id": "7AnyWuH0BGJo"
      },
      "source": [
        "## **EXERCÍCIO**\n",
        "\n",
        "Qual é a influência do parâmetro relativo à matriz de transformação inicial no algoritmo PTP ? Faça experimentos na célula abaixo para embasar sua resposta."
      ]
    },
    {
      "cell_type": "code",
      "metadata": {
        "id": "i40xyIaeBMMu"
      },
      "source": [
        "#digite sua resposta aqui"
      ],
      "execution_count": null,
      "outputs": []
    },
    {
      "cell_type": "markdown",
      "metadata": {
        "id": "odK_j5PGBhAu"
      },
      "source": [
        "## **ALGORITMO PTPL (POINT-TO-PLANE)**\n",
        "\n",
        "O Algoritmo de Registro PTPL (Point-To-Plane) também depende de dois parâmetros além do espaço de busca: uma matriz de transformação inicial e um limiar (threshold):"
      ]
    },
    {
      "cell_type": "code",
      "metadata": {
        "id": "AItsM494B21b"
      },
      "source": [
        "trans_init = np.asarray([[0.862, 0.011, -0.507, 0.5],\n",
        "                         [-0.139, 0.967, -0.215, 0.7],\n",
        "                         [0.487, 0.255, 0.835, -1.4], \n",
        "                         [0.0, 0.0, 0.0, 1.0]])\n",
        "threshold=0.02\n",
        "result = o3d.pipelines.registration.registration_icp(\n",
        "    pcdb, pcdp, threshold, trans_init,\n",
        "    o3d.pipelines.registration.TransformationEstimationPointToPlane(),\n",
        "    o3d.pipelines.registration.ICPConvergenceCriteria(max_iteration=2000))\n",
        "print(result)\n",
        "print(\"Transformation Matrix:\")\n",
        "print(result.transformation)"
      ],
      "execution_count": null,
      "outputs": []
    },
    {
      "cell_type": "markdown",
      "metadata": {
        "id": "UuW2adg7CDhS"
      },
      "source": [
        "## **EXERCÍCIO**\n",
        "\n",
        "O Algoritmo PTPL implementado na Open3D é devido a Low (2004). Este algoritmo é apresentado no artigo abaixo:\n",
        "\n",
        "https://www.comp.nus.edu.sg/~lowkl/publications/lowk_point-to-plane_icp_techrep.pdf\n",
        "\n",
        "Leia o artigo acima e explique como este algoritmo funciona."
      ]
    },
    {
      "cell_type": "markdown",
      "metadata": {
        "id": "Cd53DDwxCdwk"
      },
      "source": [
        "Digite sua resposta aqui"
      ]
    },
    {
      "cell_type": "markdown",
      "metadata": {
        "id": "aZh6rJvFCh98"
      },
      "source": [
        "##**EXERCÍCIO**\n",
        "Qual é a diferença entre os algoritmos PTP e PTPL ?"
      ]
    },
    {
      "cell_type": "markdown",
      "metadata": {
        "id": "ZMtGvWb6Crnm"
      },
      "source": [
        "Digite sua resposta aqui..."
      ]
    },
    {
      "cell_type": "markdown",
      "metadata": {
        "id": "fiwT_-h9C0LQ"
      },
      "source": [
        "## **EXERCÍCIO**\n",
        "\n",
        "Qual é a influência do parâmetro threshold no algoritmo PTPL ? Faça experimentos na célula abaixo para embasar sua resposta."
      ]
    },
    {
      "cell_type": "code",
      "metadata": {
        "id": "C2CFUvJeC16D"
      },
      "source": [
        "#digite sua análise aqui"
      ],
      "execution_count": null,
      "outputs": []
    },
    {
      "cell_type": "markdown",
      "metadata": {
        "id": "twzjCuwtDCdB"
      },
      "source": [
        "## **EXERCÍCIO**\n",
        "\n",
        "Qual é a influência do parâmetro relativo à matriz de transformação inicial no algoritmo PTPL ? Faça experimentos na célula abaixo para embasar sua resposta."
      ]
    },
    {
      "cell_type": "code",
      "metadata": {
        "id": "70jFI92LDFC8"
      },
      "source": [
        "#digite sua análise aqui"
      ],
      "execution_count": null,
      "outputs": []
    }
  ]
}